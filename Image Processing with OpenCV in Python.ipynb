{
 "cells": [
  {
   "cell_type": "markdown",
   "id": "def6b621",
   "metadata": {},
   "source": [
    "## chapter 1: Software and packages"
   ]
  },
  {
   "cell_type": "code",
   "execution_count": 1,
   "id": "4a1568ed",
   "metadata": {},
   "outputs": [],
   "source": [
    "import numpy as np\n",
    "import cv2\n",
    "from matplotlib import pyplot as plt\n",
    "from copy import deepcopy"
   ]
  },
  {
   "cell_type": "markdown",
   "id": "0af953db",
   "metadata": {},
   "source": [
    "## chapter 2: Basic operation and Images"
   ]
  },
  {
   "cell_type": "code",
   "execution_count": 2,
   "id": "33f64ecc",
   "metadata": {},
   "outputs": [],
   "source": [
    "#2.1 importing, drawing and displying"
   ]
  },
  {
   "cell_type": "code",
   "execution_count": 3,
   "id": "276ecba3",
   "metadata": {},
   "outputs": [],
   "source": [
    "img = cv2.imread(\"image2.png\",0)"
   ]
  },
  {
   "cell_type": "code",
   "execution_count": 4,
   "id": "b1371e6a-fcef-4c58-b0a0-1eb718fc8161",
   "metadata": {},
   "outputs": [
    {
     "data": {
      "text/plain": [
       "array([[104, 104, 104, ...,  63,  63,  63],\n",
       "       [102, 102, 102, ...,  64,  64,  64],\n",
       "       [102, 101, 101, ...,  64,  64,  64],\n",
       "       ...,\n",
       "       [ 14,  14,  14, ...,   3,   3,   3],\n",
       "       [ 14,  13,  13, ...,   3,   3,   3],\n",
       "       [ 14,  13,  13, ...,   3,   3,   3]], dtype=uint8)"
      ]
     },
     "execution_count": 4,
     "metadata": {},
     "output_type": "execute_result"
    }
   ],
   "source": [
    "img"
   ]
  },
  {
   "cell_type": "code",
   "execution_count": 5,
   "id": "ea174ddb-c3bf-4bf5-86e7-efd58ac8e55e",
   "metadata": {},
   "outputs": [
    {
     "data": {
      "text/plain": [
       "False"
      ]
     },
     "execution_count": 5,
     "metadata": {},
     "output_type": "execute_result"
    }
   ],
   "source": [
    "img[1,2] == 4"
   ]
  },
  {
   "cell_type": "code",
   "execution_count": 6,
   "id": "631296d8-27ed-4522-a3be-d7a1062914f6",
   "metadata": {},
   "outputs": [],
   "source": [
    "def wind(image):\n",
    "    cv2.namedWindow(\"image\",cv2.WINDOW_NORMAL)\n",
    "    cv2.imshow(\"image\",image)\n",
    "    cv2.waitKey(0)\n",
    "    cv2.destroyAllWindows()"
   ]
  },
  {
   "cell_type": "code",
   "execution_count": 7,
   "id": "ec0d8b4b-ba15-4af0-8ceb-1c9422fd6f5c",
   "metadata": {},
   "outputs": [],
   "source": [
    "wind(img)"
   ]
  },
  {
   "cell_type": "code",
   "execution_count": 8,
   "id": "368b4bd1-6f53-490d-8083-532d4862d907",
   "metadata": {},
   "outputs": [],
   "source": [
    "imgCol = cv2.imread(\"image2.png\",1)"
   ]
  },
  {
   "cell_type": "code",
   "execution_count": 9,
   "id": "6a723c13-f8f3-4aec-9b1d-4dd905ff4de8",
   "metadata": {},
   "outputs": [],
   "source": [
    "wind(imgCol)"
   ]
  },
  {
   "cell_type": "code",
   "execution_count": 10,
   "id": "93a8c76a-ec23-49d4-a62d-5418e445370c",
   "metadata": {},
   "outputs": [],
   "source": [
    "imgCol1 = deepcopy(imgCol)\n",
    "cercle = cv2.circle(imgCol1,(160,104),120,(0,202,225),20)\n",
    "wind(cercle)"
   ]
  },
  {
   "cell_type": "code",
   "execution_count": 11,
   "id": "77813c3e-2f1e-4d1a-acab-e162b3189b0a",
   "metadata": {},
   "outputs": [],
   "source": [
    "imgN1 = cv2.imread(\"1-111.jpg\",1)"
   ]
  },
  {
   "cell_type": "code",
   "execution_count": 12,
   "id": "228de0cf-3f0d-46ca-8a52-11480d689ded",
   "metadata": {},
   "outputs": [],
   "source": [
    "imgN = deepcopy(imgN1)\n",
    "def click2circle(event, x, y, flags, param):\n",
    "    if event==cv2.EVENT_LBUTTONDBLCLK:\n",
    "        cv2.circle(imgN,(x,y),50,(255,0,0),4)\n",
    "\n",
    "cv2.namedWindow(\"differences\",cv2.WINDOW_NORMAL)\n",
    "cv2.setMouseCallback(\"differences\", click2circle)\n",
    "\n",
    "while True:\n",
    "    cv2.imshow(\"differences\",imgN)\n",
    "    a=cv2.waitKey(2000)\n",
    "    if a == 27:\n",
    "        break\n",
    "cv2.destroyAllWindows()"
   ]
  },
  {
   "cell_type": "code",
   "execution_count": 13,
   "id": "93dd155a-a4a1-412a-ab34-f7171e3b6fa4",
   "metadata": {},
   "outputs": [],
   "source": [
    "wind(imgN)"
   ]
  },
  {
   "cell_type": "code",
   "execution_count": 14,
   "id": "b20a8854-54fb-4c39-91a3-e35e39adde36",
   "metadata": {},
   "outputs": [],
   "source": [
    "#2.2.Splitting channels, map algebra"
   ]
  },
  {
   "cell_type": "code",
   "execution_count": 15,
   "id": "6eeb35c3-8099-449f-bcde-a9fbc50a918e",
   "metadata": {},
   "outputs": [],
   "source": [
    "wind(imgCol)"
   ]
  },
  {
   "cell_type": "code",
   "execution_count": 16,
   "id": "76809072-96b0-41d6-b5c3-701840c2c068",
   "metadata": {},
   "outputs": [],
   "source": [
    "b,g,r=cv2.split(imgCol)"
   ]
  },
  {
   "cell_type": "code",
   "execution_count": 17,
   "id": "5e902e1b-13fe-4026-bcf2-55a10b5e7381",
   "metadata": {},
   "outputs": [],
   "source": [
    "wind(b-r)"
   ]
  },
  {
   "cell_type": "code",
   "execution_count": 18,
   "id": "23e93cf4-646e-4fcb-80aa-1d43dcf32f31",
   "metadata": {},
   "outputs": [],
   "source": [
    "imgCol2 = cv2.merge((b,g,r))"
   ]
  },
  {
   "cell_type": "code",
   "execution_count": 19,
   "id": "86540dbd-875b-431f-9e21-34d8c68fefd8",
   "metadata": {},
   "outputs": [],
   "source": [
    "#2.3. Resizing Cropping and exporting"
   ]
  },
  {
   "cell_type": "code",
   "execution_count": 20,
   "id": "5717cae0-2df6-41dd-af52-2ae09e46f416",
   "metadata": {},
   "outputs": [],
   "source": [
    "wind(imgCol2)"
   ]
  },
  {
   "cell_type": "code",
   "execution_count": 21,
   "id": "cd29e180-dbd6-4e69-a716-29b3e2250749",
   "metadata": {},
   "outputs": [],
   "source": [
    "imgres = cv2.resize(imgCol, dsize=None, fx=0.4, fy=0.4, interpolation=cv2.INTER_CUBIC)"
   ]
  },
  {
   "cell_type": "code",
   "execution_count": 22,
   "id": "881821b8-5fe9-4f09-b0b1-ac32e668faa7",
   "metadata": {},
   "outputs": [],
   "source": [
    "wind(imgres)"
   ]
  },
  {
   "cell_type": "code",
   "execution_count": 23,
   "id": "121ccfdc-1db6-4509-939b-c00f8d6288a6",
   "metadata": {},
   "outputs": [],
   "source": [
    "cropped = imgres[48:112,207:276]"
   ]
  },
  {
   "cell_type": "code",
   "execution_count": 24,
   "id": "bcc31ed4-e83a-4c04-a62a-e3da774da22b",
   "metadata": {},
   "outputs": [],
   "source": [
    "wind(cropped)"
   ]
  },
  {
   "cell_type": "code",
   "execution_count": 25,
   "id": "42373aa0-83f5-4355-93ab-1eca43a4cb2a",
   "metadata": {},
   "outputs": [
    {
     "data": {
      "text/plain": [
       "True"
      ]
     },
     "execution_count": 25,
     "metadata": {},
     "output_type": "execute_result"
    }
   ],
   "source": [
    "cv2.imwrite(\"montain.png\",cropped)"
   ]
  },
  {
   "cell_type": "markdown",
   "id": "24e4fb3e-1f52-4aae-b410-3673fdc665e4",
   "metadata": {},
   "source": [
    "## chapter 3: Geometric operation on image"
   ]
  },
  {
   "cell_type": "code",
   "execution_count": 26,
   "id": "70e51999-7bc8-4cea-a113-6893d411f7eb",
   "metadata": {},
   "outputs": [],
   "source": [
    "##3.1 Image gradients"
   ]
  },
  {
   "cell_type": "code",
   "execution_count": 27,
   "id": "8b0d81d0-f7cb-4c01-b4a6-db713658f877",
   "metadata": {},
   "outputs": [],
   "source": [
    "crops = cv2.imread(\"crops.jpeg\",0)"
   ]
  },
  {
   "cell_type": "code",
   "execution_count": 28,
   "id": "821bfcd0-48af-404d-aa11-7efe4f58c8e4",
   "metadata": {},
   "outputs": [],
   "source": [
    "wind(crops)"
   ]
  },
  {
   "cell_type": "code",
   "execution_count": 29,
   "id": "b950f669-cb11-479b-bce1-5a7bf0a65e5d",
   "metadata": {},
   "outputs": [],
   "source": [
    "sobelx = cv2.Sobel(crops,cv2.CV_8U,1,0,ksize=3)"
   ]
  },
  {
   "cell_type": "code",
   "execution_count": 30,
   "id": "fd4bff3d-4abc-4b1a-8290-cf72749e74ca",
   "metadata": {},
   "outputs": [],
   "source": [
    "wind(sobelx)"
   ]
  },
  {
   "cell_type": "code",
   "execution_count": 31,
   "id": "a6397086-088d-4ab9-8bb9-fea5bc806b9a",
   "metadata": {},
   "outputs": [],
   "source": [
    "laplacian = cv2.Laplacian(crops,cv2.CV_8U)"
   ]
  },
  {
   "cell_type": "code",
   "execution_count": 32,
   "id": "69f8424b-9a75-4721-bc9d-4d9b88b696ba",
   "metadata": {},
   "outputs": [],
   "source": [
    "wind(laplacian)"
   ]
  },
  {
   "cell_type": "code",
   "execution_count": 33,
   "id": "445e0f70-a0c2-4c2f-8a2f-a74a60f95453",
   "metadata": {},
   "outputs": [],
   "source": [
    "#3.2 Edge and feature detection"
   ]
  },
  {
   "cell_type": "code",
   "execution_count": 34,
   "id": "aec5659a-ab2a-42f8-af2a-dbddf301a7bd",
   "metadata": {},
   "outputs": [],
   "source": [
    "edges=cv2.Canny(crops,100,200)\n",
    "wind(edges)"
   ]
  },
  {
   "cell_type": "code",
   "execution_count": 35,
   "id": "39b761b2-d243-48b6-bde6-3747404cb79f",
   "metadata": {},
   "outputs": [],
   "source": [
    "comic=cv2.imread(\"comic.jpg\",1)\n",
    "wind(comic)"
   ]
  },
  {
   "cell_type": "code",
   "execution_count": 36,
   "id": "3696840e-7d59-4360-9766-0b44f18ed7e7",
   "metadata": {},
   "outputs": [],
   "source": [
    "edges=cv2.Canny(comic,150,400)\n",
    "wind(edges)"
   ]
  },
  {
   "cell_type": "code",
   "execution_count": 37,
   "id": "ed753ad8-6233-410a-bf40-2a73dab8491b",
   "metadata": {},
   "outputs": [],
   "source": [
    "lines = cv2.HoughLines(edges, 1, np.pi / 100, 150)"
   ]
  },
  {
   "cell_type": "code",
   "execution_count": 38,
   "id": "96142f26-b963-43dd-8630-17f5ecf8b2b8",
   "metadata": {},
   "outputs": [
    {
     "data": {
      "text/plain": [
       "array([[[ 189.       ,    1.5707964]],\n",
       "\n",
       "       [[ 202.       ,    1.5707964]],\n",
       "\n",
       "       [[-190.       ,    2.3561945]],\n",
       "\n",
       "       ...,\n",
       "\n",
       "       [[-279.       ,    2.3561945]],\n",
       "\n",
       "       [[  71.       ,    2.3561945]],\n",
       "\n",
       "       [[ -15.       ,    2.3876104]]], dtype=float32)"
      ]
     },
     "execution_count": 38,
     "metadata": {},
     "output_type": "execute_result"
    }
   ],
   "source": [
    "lines"
   ]
  },
  {
   "cell_type": "code",
   "execution_count": 39,
   "id": "0ac7b936-8cdc-423f-a3d4-cd119838fdd7",
   "metadata": {},
   "outputs": [],
   "source": [
    "for iterator in lines:\n",
    "    rho = iterator[0][0]\n",
    "    theta = iterator[0][1]\n",
    "    a = np.cos(theta)\n",
    "    b = np.sin(theta)\n",
    "    x0 = a*rho\n",
    "    y0 = b*rho\n",
    "    x1 = int(x0+1000*(-b))\n",
    "    y1 = int(y0+1000*(a))\n",
    "    x2 = int(x0-1000*(-b))\n",
    "    y2 = int(y0-1000*(a))\n",
    "    cv2.line(comic,(x1,y1),(x2,y2),(0,0,255),1)\n",
    "\n",
    "cv2.imshow(\"Detected Lines\", comic)\n",
    "cv2.waitKey(0)\n",
    "cv2.destroyAllWindows()"
   ]
  },
  {
   "cell_type": "code",
   "execution_count": 40,
   "id": "24fe6cc4-81d7-48bc-af22-4ee4527f4dc4",
   "metadata": {},
   "outputs": [],
   "source": [
    "wind(comic)"
   ]
  },
  {
   "cell_type": "code",
   "execution_count": 41,
   "id": "dc6c2d91-005f-42b6-ad84-a979dfc5fdc0",
   "metadata": {},
   "outputs": [],
   "source": [
    "#3.3.Simple geomcomputer application"
   ]
  },
  {
   "cell_type": "code",
   "execution_count": 42,
   "id": "7e259baf-1616-45cf-bad0-812a3c3de409",
   "metadata": {},
   "outputs": [],
   "source": [
    "imgN1 = cv2.imread(\"1-111.jpg\",1)"
   ]
  },
  {
   "cell_type": "code",
   "execution_count": 43,
   "id": "b3d10338-d8d5-4db6-b4c8-4b4215cc9e7a",
   "metadata": {},
   "outputs": [],
   "source": [
    "wind(imgN1)"
   ]
  },
  {
   "cell_type": "code",
   "execution_count": 44,
   "id": "dfe95a01-735b-40c7-af1a-c4dc9d1d0c28",
   "metadata": {},
   "outputs": [],
   "source": [
    "diffs=np.array([[560,378],[769,269],[851,253],[626,266],[350,318]])"
   ]
  },
  {
   "cell_type": "code",
   "execution_count": 45,
   "id": "85b1aa9f-871b-43ec-81c9-0b22541eaddc",
   "metadata": {},
   "outputs": [],
   "source": [
    "def euclid(x1, x2, y1, y2):\n",
    "    return int(np.sqrt((x1-x2)**2+(y1-y2)**2))"
   ]
  },
  {
   "cell_type": "code",
   "execution_count": 46,
   "id": "68b18873-d83f-41f5-8592-418aea447d5a",
   "metadata": {},
   "outputs": [],
   "source": [
    "imgN = deepcopy(imgN1)\n",
    "def click2circle(event, x, y, flags, param):\n",
    "    if event==cv2.EVENT_LBUTTONDBLCLK:\n",
    "        for diff in diffs:\n",
    "            if euclid(x,diff[0],y,diff[1])<25:\n",
    "                cv2.circle(imgN,(x,y),50,(255,0,0),4)\n",
    "\n",
    "cv2.namedWindow(\"differences\",cv2.WINDOW_NORMAL)\n",
    "cv2.setMouseCallback(\"differences\", click2circle)\n",
    "\n",
    "while True:\n",
    "    cv2.imshow(\"differences\",imgN)\n",
    "    a=cv2.waitKey(2000)\n",
    "    if a == 27:\n",
    "        break\n",
    "cv2.destroyAllWindows()"
   ]
  },
  {
   "cell_type": "markdown",
   "id": "1cd8e71b-8afa-4025-85f0-73b0d583ce2c",
   "metadata": {},
   "source": [
    "## Radiometric operations on images"
   ]
  },
  {
   "cell_type": "code",
   "execution_count": 47,
   "id": "d19ba46d-0aaa-496e-a1a3-934993dac3b8",
   "metadata": {},
   "outputs": [],
   "source": [
    "#4.1. Image colorspace and thresholding"
   ]
  },
  {
   "cell_type": "code",
   "execution_count": 48,
   "id": "b8deedd5-5ced-4c5f-b758-8ce15e815d5a",
   "metadata": {},
   "outputs": [],
   "source": [
    "hsv = cv2.cvtColor(imgN1, cv2.COLOR_BGR2HSV)"
   ]
  },
  {
   "cell_type": "code",
   "execution_count": 49,
   "id": "537bd9a5-c588-4408-b942-8ae3770ae931",
   "metadata": {},
   "outputs": [],
   "source": [
    "wind(hsv)"
   ]
  },
  {
   "cell_type": "code",
   "execution_count": 50,
   "id": "d6164e9f-8ff0-439e-a0a5-32f4595a33e2",
   "metadata": {},
   "outputs": [],
   "source": [
    "gray = cv2.cvtColor(imgN1, cv2.COLOR_BGR2GRAY)"
   ]
  },
  {
   "cell_type": "code",
   "execution_count": 51,
   "id": "0bf6c373-896c-4dc6-bc16-47482696d010",
   "metadata": {},
   "outputs": [],
   "source": [
    "wind(gray)"
   ]
  },
  {
   "cell_type": "code",
   "execution_count": 52,
   "id": "0f4404ad-7d68-43ae-bbb8-06d51d03ee35",
   "metadata": {},
   "outputs": [],
   "source": [
    "r,t = cv2.threshold(gray,100,255,cv2.THRESH_BINARY)"
   ]
  },
  {
   "cell_type": "code",
   "execution_count": 53,
   "id": "91a4b286-a95b-440f-badc-034a1049f948",
   "metadata": {},
   "outputs": [
    {
     "data": {
      "text/plain": [
       "100.0"
      ]
     },
     "execution_count": 53,
     "metadata": {},
     "output_type": "execute_result"
    }
   ],
   "source": [
    "r"
   ]
  },
  {
   "cell_type": "code",
   "execution_count": 54,
   "id": "cc53206d-ea1c-4f79-8ae9-11304d5cfc6e",
   "metadata": {},
   "outputs": [
    {
     "data": {
      "text/plain": [
       "array([[0, 0, 0, ..., 0, 0, 0],\n",
       "       [0, 0, 0, ..., 0, 0, 0],\n",
       "       [0, 0, 0, ..., 0, 0, 0],\n",
       "       ...,\n",
       "       [0, 0, 0, ..., 0, 0, 0],\n",
       "       [0, 0, 0, ..., 0, 0, 0],\n",
       "       [0, 0, 0, ..., 0, 0, 0]], dtype=uint8)"
      ]
     },
     "execution_count": 54,
     "metadata": {},
     "output_type": "execute_result"
    }
   ],
   "source": [
    "t"
   ]
  },
  {
   "cell_type": "code",
   "execution_count": 55,
   "id": "7edf96f7-4fd5-4f77-8569-645a066eea33",
   "metadata": {},
   "outputs": [],
   "source": [
    "wind(t)"
   ]
  },
  {
   "cell_type": "code",
   "execution_count": 56,
   "id": "deb261e9-2b69-4423-9ddf-fd0a08f06514",
   "metadata": {},
   "outputs": [],
   "source": [
    "#4.2 Image historgam"
   ]
  },
  {
   "cell_type": "code",
   "execution_count": 57,
   "id": "4dc7c2e3-d3de-4fb7-936d-2799e1ee64ff",
   "metadata": {},
   "outputs": [],
   "source": [
    "apple = cv2.imread(\"apple.jpg\",0)"
   ]
  },
  {
   "cell_type": "code",
   "execution_count": 58,
   "id": "ecb62347-8627-41d1-a7a7-516703a95ed9",
   "metadata": {},
   "outputs": [],
   "source": [
    "wind(apple)"
   ]
  },
  {
   "cell_type": "code",
   "execution_count": 59,
   "id": "7a0d5e71-7449-4645-b028-a736bffe4e07",
   "metadata": {},
   "outputs": [],
   "source": [
    "hist = cv2.calcHist([apple],[0],None,[256],[0,256])"
   ]
  },
  {
   "cell_type": "code",
   "execution_count": 60,
   "id": "36077fc2-a19e-4c96-9a5d-4dfd67cff2c6",
   "metadata": {},
   "outputs": [],
   "source": [
    "xaxis = np.arange(256).reshape(256,1)"
   ]
  },
  {
   "cell_type": "code",
   "execution_count": 61,
   "id": "9fdefea8-e3cd-4887-8399-f3cbed4423ea",
   "metadata": {},
   "outputs": [
    {
     "data": {
      "text/plain": [
       "array([[  0],\n",
       "       [  1],\n",
       "       [  2],\n",
       "       [  3],\n",
       "       [  4],\n",
       "       [  5],\n",
       "       [  6],\n",
       "       [  7],\n",
       "       [  8],\n",
       "       [  9],\n",
       "       [ 10],\n",
       "       [ 11],\n",
       "       [ 12],\n",
       "       [ 13],\n",
       "       [ 14],\n",
       "       [ 15],\n",
       "       [ 16],\n",
       "       [ 17],\n",
       "       [ 18],\n",
       "       [ 19],\n",
       "       [ 20],\n",
       "       [ 21],\n",
       "       [ 22],\n",
       "       [ 23],\n",
       "       [ 24],\n",
       "       [ 25],\n",
       "       [ 26],\n",
       "       [ 27],\n",
       "       [ 28],\n",
       "       [ 29],\n",
       "       [ 30],\n",
       "       [ 31],\n",
       "       [ 32],\n",
       "       [ 33],\n",
       "       [ 34],\n",
       "       [ 35],\n",
       "       [ 36],\n",
       "       [ 37],\n",
       "       [ 38],\n",
       "       [ 39],\n",
       "       [ 40],\n",
       "       [ 41],\n",
       "       [ 42],\n",
       "       [ 43],\n",
       "       [ 44],\n",
       "       [ 45],\n",
       "       [ 46],\n",
       "       [ 47],\n",
       "       [ 48],\n",
       "       [ 49],\n",
       "       [ 50],\n",
       "       [ 51],\n",
       "       [ 52],\n",
       "       [ 53],\n",
       "       [ 54],\n",
       "       [ 55],\n",
       "       [ 56],\n",
       "       [ 57],\n",
       "       [ 58],\n",
       "       [ 59],\n",
       "       [ 60],\n",
       "       [ 61],\n",
       "       [ 62],\n",
       "       [ 63],\n",
       "       [ 64],\n",
       "       [ 65],\n",
       "       [ 66],\n",
       "       [ 67],\n",
       "       [ 68],\n",
       "       [ 69],\n",
       "       [ 70],\n",
       "       [ 71],\n",
       "       [ 72],\n",
       "       [ 73],\n",
       "       [ 74],\n",
       "       [ 75],\n",
       "       [ 76],\n",
       "       [ 77],\n",
       "       [ 78],\n",
       "       [ 79],\n",
       "       [ 80],\n",
       "       [ 81],\n",
       "       [ 82],\n",
       "       [ 83],\n",
       "       [ 84],\n",
       "       [ 85],\n",
       "       [ 86],\n",
       "       [ 87],\n",
       "       [ 88],\n",
       "       [ 89],\n",
       "       [ 90],\n",
       "       [ 91],\n",
       "       [ 92],\n",
       "       [ 93],\n",
       "       [ 94],\n",
       "       [ 95],\n",
       "       [ 96],\n",
       "       [ 97],\n",
       "       [ 98],\n",
       "       [ 99],\n",
       "       [100],\n",
       "       [101],\n",
       "       [102],\n",
       "       [103],\n",
       "       [104],\n",
       "       [105],\n",
       "       [106],\n",
       "       [107],\n",
       "       [108],\n",
       "       [109],\n",
       "       [110],\n",
       "       [111],\n",
       "       [112],\n",
       "       [113],\n",
       "       [114],\n",
       "       [115],\n",
       "       [116],\n",
       "       [117],\n",
       "       [118],\n",
       "       [119],\n",
       "       [120],\n",
       "       [121],\n",
       "       [122],\n",
       "       [123],\n",
       "       [124],\n",
       "       [125],\n",
       "       [126],\n",
       "       [127],\n",
       "       [128],\n",
       "       [129],\n",
       "       [130],\n",
       "       [131],\n",
       "       [132],\n",
       "       [133],\n",
       "       [134],\n",
       "       [135],\n",
       "       [136],\n",
       "       [137],\n",
       "       [138],\n",
       "       [139],\n",
       "       [140],\n",
       "       [141],\n",
       "       [142],\n",
       "       [143],\n",
       "       [144],\n",
       "       [145],\n",
       "       [146],\n",
       "       [147],\n",
       "       [148],\n",
       "       [149],\n",
       "       [150],\n",
       "       [151],\n",
       "       [152],\n",
       "       [153],\n",
       "       [154],\n",
       "       [155],\n",
       "       [156],\n",
       "       [157],\n",
       "       [158],\n",
       "       [159],\n",
       "       [160],\n",
       "       [161],\n",
       "       [162],\n",
       "       [163],\n",
       "       [164],\n",
       "       [165],\n",
       "       [166],\n",
       "       [167],\n",
       "       [168],\n",
       "       [169],\n",
       "       [170],\n",
       "       [171],\n",
       "       [172],\n",
       "       [173],\n",
       "       [174],\n",
       "       [175],\n",
       "       [176],\n",
       "       [177],\n",
       "       [178],\n",
       "       [179],\n",
       "       [180],\n",
       "       [181],\n",
       "       [182],\n",
       "       [183],\n",
       "       [184],\n",
       "       [185],\n",
       "       [186],\n",
       "       [187],\n",
       "       [188],\n",
       "       [189],\n",
       "       [190],\n",
       "       [191],\n",
       "       [192],\n",
       "       [193],\n",
       "       [194],\n",
       "       [195],\n",
       "       [196],\n",
       "       [197],\n",
       "       [198],\n",
       "       [199],\n",
       "       [200],\n",
       "       [201],\n",
       "       [202],\n",
       "       [203],\n",
       "       [204],\n",
       "       [205],\n",
       "       [206],\n",
       "       [207],\n",
       "       [208],\n",
       "       [209],\n",
       "       [210],\n",
       "       [211],\n",
       "       [212],\n",
       "       [213],\n",
       "       [214],\n",
       "       [215],\n",
       "       [216],\n",
       "       [217],\n",
       "       [218],\n",
       "       [219],\n",
       "       [220],\n",
       "       [221],\n",
       "       [222],\n",
       "       [223],\n",
       "       [224],\n",
       "       [225],\n",
       "       [226],\n",
       "       [227],\n",
       "       [228],\n",
       "       [229],\n",
       "       [230],\n",
       "       [231],\n",
       "       [232],\n",
       "       [233],\n",
       "       [234],\n",
       "       [235],\n",
       "       [236],\n",
       "       [237],\n",
       "       [238],\n",
       "       [239],\n",
       "       [240],\n",
       "       [241],\n",
       "       [242],\n",
       "       [243],\n",
       "       [244],\n",
       "       [245],\n",
       "       [246],\n",
       "       [247],\n",
       "       [248],\n",
       "       [249],\n",
       "       [250],\n",
       "       [251],\n",
       "       [252],\n",
       "       [253],\n",
       "       [254],\n",
       "       [255]])"
      ]
     },
     "execution_count": 61,
     "metadata": {},
     "output_type": "execute_result"
    }
   ],
   "source": [
    "xaxis"
   ]
  },
  {
   "cell_type": "code",
   "execution_count": 62,
   "id": "478e056c-4c71-4c21-9a63-02162ca27e14",
   "metadata": {},
   "outputs": [],
   "source": [
    "histogram = np.hstack((xaxis,hist)).astype(int)"
   ]
  },
  {
   "cell_type": "code",
   "execution_count": 63,
   "id": "d5647b99-0f9a-4933-9b3f-e7a772563ab5",
   "metadata": {},
   "outputs": [
    {
     "data": {
      "text/plain": [
       "<function matplotlib.pyplot.show(close=None, block=None)>"
      ]
     },
     "execution_count": 63,
     "metadata": {},
     "output_type": "execute_result"
    },
    {
     "data": {
      "image/png": "[encoded data removed]",
      "text/plain": [
       "<Figure size 640x480 with 1 Axes>"
      ]
     },
     "metadata": {},
     "output_type": "display_data"
    }
   ],
   "source": [
    "plt.hist(apple.flatten(),256,[0,256])\n",
    "plt.show"
   ]
  },
  {
   "cell_type": "code",
   "execution_count": 64,
   "id": "9b1a0272-997c-4c08-ac19-1f9e2a1d0df9",
   "metadata": {},
   "outputs": [],
   "source": [
    "equ = cv2.equalizeHist(apple)"
   ]
  },
  {
   "cell_type": "code",
   "execution_count": 65,
   "id": "30e55757-805a-47bc-8022-90a7bece17f0",
   "metadata": {},
   "outputs": [],
   "source": [
    "wind(equ)"
   ]
  },
  {
   "cell_type": "code",
   "execution_count": 66,
   "id": "f1839b2d-9cdd-48c3-bea2-a6daf36e17d3",
   "metadata": {},
   "outputs": [],
   "source": [
    "res = np.hstack((apple,equ))"
   ]
  },
  {
   "cell_type": "code",
   "execution_count": 67,
   "id": "64b04d0e-f50e-4876-a69f-4706cbff2df9",
   "metadata": {},
   "outputs": [],
   "source": [
    "wind(res)"
   ]
  },
  {
   "cell_type": "code",
   "execution_count": 68,
   "id": "92940d1e-87b3-453d-a223-0e3fac6f900f",
   "metadata": {},
   "outputs": [],
   "source": [
    "#4.3. Convolution based operations"
   ]
  },
  {
   "cell_type": "code",
   "execution_count": 69,
   "id": "c1084e3f-b33e-4783-9fa0-00323151ac66",
   "metadata": {},
   "outputs": [],
   "source": [
    "blur = cv2.blur(apple,(7,7))\n",
    "wind(blur)"
   ]
  },
  {
   "cell_type": "code",
   "execution_count": 70,
   "id": "ff9cd74f-6b99-4744-899e-ed5da98d1365",
   "metadata": {},
   "outputs": [],
   "source": [
    "blurG = cv2.GaussianBlur(apple,(11,11),0)\n",
    "wind(blurG)"
   ]
  },
  {
   "cell_type": "code",
   "execution_count": 71,
   "id": "30032735-9fb1-4f0e-b9d7-d0ef79a8ceb8",
   "metadata": {},
   "outputs": [],
   "source": [
    "res = np.hstack((apple,blurG))"
   ]
  },
  {
   "cell_type": "code",
   "execution_count": 72,
   "id": "9c571b9d-4261-4dac-b92b-d362b9a231fc",
   "metadata": {},
   "outputs": [],
   "source": [
    "wind(res)"
   ]
  },
  {
   "cell_type": "code",
   "execution_count": 73,
   "id": "3747d9fa-6b84-499e-99ad-d4c5cce0aeb5",
   "metadata": {},
   "outputs": [],
   "source": [
    "#4.4. K-means classification"
   ]
  },
  {
   "cell_type": "code",
   "execution_count": 74,
   "id": "7a28405d-bf9d-4b27-9900-c5792b49ef2b",
   "metadata": {},
   "outputs": [],
   "source": [
    "img = cv2.imread(\"apple.jpg\",1)\n",
    "wind(img)"
   ]
  },
  {
   "cell_type": "code",
   "execution_count": 75,
   "id": "4f715b41-2613-46a5-860c-c452e71229b5",
   "metadata": {},
   "outputs": [],
   "source": [
    "imgCL = np.float32(img.reshape((-1,3)))\n",
    "criteria = (cv2.TERM_CRITERIA_EPS+cv2.TERM_CRITERIA_MAX_ITER,15,1.0)\n",
    "k = 4\n",
    "ret,lab,center = cv2.kmeans(imgCL, k, None, criteria, 10, cv2.KMEANS_RANDOM_CENTERS)\n",
    "center = np.uint8(center)\n",
    "res=center[lab.flatten()]\n",
    "res2 = res.reshape((img.shape))\n",
    "wind(res2)\n"
   ]
  },
  {
   "cell_type": "markdown",
   "id": "e616e30e-140b-40a5-aee9-8fe659f8b047",
   "metadata": {},
   "source": [
    "## Chapter 5: An Earth Observation application"
   ]
  },
  {
   "cell_type": "code",
   "execution_count": 76,
   "id": "6107f90b-abe0-41fb-b91a-ac586cecfe6d",
   "metadata": {},
   "outputs": [],
   "source": [
    "pathB=\"C:/Users/PAVILION/Desktop/DIPOpenCV/after/\"\n",
    "pathA=\"C:/Users/PAVILION/Desktop/DIPOpenCV/after/\""
   ]
  },
  {
   "cell_type": "code",
   "execution_count": 77,
   "id": "94195646-e4d0-4acc-8086-0faf626f0dac",
   "metadata": {},
   "outputs": [],
   "source": [
    "BEF=[]\n",
    "AFT=[]\n",
    "for i in range(1,8):\n",
    "    BEF.append(cv2.imread(pathB+\"B\"+str(i)+\".tif\",0)[0:3849,0:3702])\n",
    "    AFT.append(cv2.imread(pathA+\"B\"+str(i)+\".tif\",0)[0:3849,0:3702])"
   ]
  },
  {
   "cell_type": "code",
   "execution_count": 78,
   "id": "149756ce-fa99-4a0a-93da-03d34f73b1de",
   "metadata": {},
   "outputs": [],
   "source": [
    "wind(BEF[6])"
   ]
  },
  {
   "cell_type": "code",
   "execution_count": 79,
   "id": "197e60d2-440a-465d-8500-ffbc4eec3d1e",
   "metadata": {},
   "outputs": [],
   "source": [
    "BEF32=[]\n",
    "AFT32=[]\n",
    "for i in range(7):\n",
    "    BEF32.append(np.float32(cv2.equalizeHist(BEF[i])))\n",
    "    AFT32.append(np.float32(cv2.equalizeHist(AFT[i])))"
   ]
  },
  {
   "cell_type": "code",
   "execution_count": 80,
   "id": "e78ed17e-66e2-4b7e-95ec-6cecac90f58a",
   "metadata": {},
   "outputs": [],
   "source": [
    "before = cv2.merge((BEF[0],BEF[1],BEF[2],BEF[3],BEF[4],BEF[5],BEF[6]))"
   ]
  },
  {
   "cell_type": "code",
   "execution_count": 81,
   "id": "77b78095-fb39-4b5b-94a2-473a39110495",
   "metadata": {},
   "outputs": [],
   "source": [
    "beforeReady = np.float32(before.reshape((-1,7)))\n",
    "criteria = (cv2.TERM_CRITERIA_EPS+cv2.TERM_CRITERIA_MAX_ITER,30,1.0)\n",
    "k = 6\n",
    "ret,lab,center = cv2.kmeans(beforeReady, k, None, criteria, 10, cv2.KMEANS_RANDOM_CENTERS)\n",
    "center = np.uint8(center)\n",
    "res=center[lab.flatten()]\n",
    "res2 = res.reshape((before.shape))\n"
   ]
  },
  {
   "cell_type": "code",
   "execution_count": 82,
   "id": "78c6534c-0ab6-4b05-9b07-d51a22875b35",
   "metadata": {},
   "outputs": [],
   "source": [
    "beforeF = deepcopy(res2[:][:,:,:3])"
   ]
  },
  {
   "cell_type": "code",
   "execution_count": 83,
   "id": "011a5c10-df6d-49a9-b04d-f89acb963c3f",
   "metadata": {},
   "outputs": [],
   "source": [
    "wind(beforeF)"
   ]
  },
  {
   "cell_type": "code",
   "execution_count": 86,
   "id": "2377861b-4f94-4448-bd84-61f2d089f880",
   "metadata": {},
   "outputs": [],
   "source": [
    "after = cv2.merge((AFT[0],AFT[1],AFT[2],AFT[3],AFT[4],AFT[5],AFT[6]))"
   ]
  },
  {
   "cell_type": "code",
   "execution_count": 90,
   "id": "3f73fc31-ff03-4da6-932a-affc711a84e7",
   "metadata": {},
   "outputs": [],
   "source": [
    "afterReady = np.float32(after.reshape((-1,7)))\n",
    "criteria = (cv2.TERM_CRITERIA_EPS+cv2.TERM_CRITERIA_MAX_ITER,30,1.0)\n",
    "k = 6\n",
    "ret,lab,center = cv2.kmeans(afterReady, k, None, criteria, 10, cv2.KMEANS_RANDOM_CENTERS)\n",
    "center = np.uint8(center)\n",
    "res=center[lab.flatten()]\n",
    "res2 = res.reshape((after.shape))\n",
    "afterF = deepcopy(res2[:][:,:,:3])"
   ]
  },
  {
   "cell_type": "code",
   "execution_count": 91,
   "id": "fe82e67a-e9a2-48a3-bcbc-c0a89fe49790",
   "metadata": {},
   "outputs": [],
   "source": [
    "wind(afterF)"
   ]
  },
  {
   "cell_type": "code",
   "execution_count": 93,
   "id": "ed114fc2-1eac-4330-b438-05bf67349b36",
   "metadata": {},
   "outputs": [],
   "source": [
    "beforeafter = np.hstack((beforeF, afterF))\n",
    "wind(beforeafter)"
   ]
  },
  {
   "cell_type": "code",
   "execution_count": 100,
   "id": "81364c40-3fe3-4969-9d2a-87e80359b31b",
   "metadata": {},
   "outputs": [
    {
     "name": "stdout",
     "output_type": "stream",
     "text": [
      "Total burned area:  14234108 square meters\n",
      "Forest burned area:  14234092 squre meters\n"
     ]
    }
   ],
   "source": [
    "d=0 ; q=0\n",
    "for i in range(len(afterF)):\n",
    "    for j in range(len(afterF[i])):\n",
    "        if np.sum(afterF[i][j])==0:\n",
    "            d+=1\n",
    "            if np.sum(beforeF[i][j])==0:\n",
    "                q+=1\n",
    "print(\"Total burned area: \",d,\"square meters\")\n",
    "print(\"Forest burned area: \",q,\"squre meters\")"
   ]
  },
  {
   "cell_type": "code",
   "execution_count": null,
   "id": "b278a309-d0d6-4cec-b9cf-0d678fc1f10e",
   "metadata": {},
   "outputs": [],
   "source": []
  }
 ],
 "metadata": {
  "kernelspec": {
   "display_name": "Python 3 (ipykernel)",
   "language": "python",
   "name": "python3"
  },
  "language_info": {
   "codemirror_mode": {
    "name": "ipython",
    "version": 3
   },
   "file_extension": ".py",
   "mimetype": "text/x-python",
   "name": "python",
   "nbconvert_exporter": "python",
   "pygments_lexer": "ipython3",
   "version": "3.11.3"
  }
 },
 "nbformat": 4,
 "nbformat_minor": 5
}
